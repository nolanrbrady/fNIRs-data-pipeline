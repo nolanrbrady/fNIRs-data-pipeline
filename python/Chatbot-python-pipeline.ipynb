{
 "cells": [
  {
   "cell_type": "code",
   "execution_count": null,
   "id": "1a550b38-9e16-4193-8bf5-d2956d6c3e5c",
   "metadata": {},
   "outputs": [],
   "source": [
    "# Import common libraries\n",
    "import pandas as pd\n",
    "import numpy as np\n",
    "from copy import deepcopy\n",
    "import importlib\n",
    "\n",
    "\n",
    "# Import MNE processing\n",
    "from mne.viz import plot_compare_evokeds\n",
    "from mne import Epochs, events_from_annotations, set_log_level\n",
    "\n",
    "# Scikit Learn\n",
    "from sklearn.decomposition import PCA\n",
    "from sklearn.preprocessing import StandardScaler\n",
    "\n",
    "# Import StatsModels\n",
    "import statsmodels.formula.api as smf\n",
    "\n",
    "# Import Plotting Library\n",
    "import matplotlib.pyplot as plt\n",
    "import seaborn as sns\n",
    "from collections import defaultdict\n",
    "\n",
    "# Internal Packages\n",
    "import analysis_tools\n",
    "import system_file_io\n",
    "import quality_eval\n",
    "import dynamic_interval_tools\n",
    "\n",
    "# Reset the cache\n",
    "importlib.reload(analysis_tools)\n",
    "importlib.reload(system_file_io)\n",
    "importlib.reload(dynamic_interval_tools)\n",
    "\n"
   ]
  },
  {
   "cell_type": "markdown",
   "id": "b7f2e4de",
   "metadata": {},
   "source": [
    "## Notes for Future Features"
   ]
  },
  {
   "cell_type": "code",
   "execution_count": null,
   "id": "3f53cef5",
   "metadata": {},
   "outputs": [],
   "source": [
    "# TODO: Allowing for custom timestamps to be imported\n",
    "\n",
    "\"\"\"\n",
    "Apparently the way to do this is: \n",
    "    events = np.array([[sample, 0, event_id, timestamp], ...])\n",
    "where:\n",
    "    sample: the sample number of the event in the data. This is the position in the data where the event occurs.\n",
    "    0: this column is usually used as a reserved column in MNE functions, it's not used in this case.\n",
    "    event_id: an integer that identifies the type of event. This can be used to distinguish different types of triggers, for example, different stimulus conditions, button presses, or other experimental events.\n",
    "    timestamp: the time in seconds of the event.\n",
    "\"\"\""
   ]
  },
  {
   "cell_type": "code",
   "execution_count": null,
   "id": "529511ba-566b-4ce1-ba9f-7b3abbbbfe8b",
   "metadata": {},
   "outputs": [],
   "source": [
    "# Tip for using machine learning for exploratory type data analysis\n",
    "\n",
    "# Use principal component analysis (PCA) or independent component analysis (ICA), \n",
    "# to identify patterns in the fNIRS data that are not immediately obvious. \n",
    "# This can be used to identify latent neural networks or to identify different sources of signal variation.\n",
    "\n",
    "# ==========================================================\n",
    "\n",
    "# I'm curious how we could incorportate these into the data analsyis pipeline\n",
    "\n",
    "# Anomaly detection\n",
    "# Unsupervised learning algorithms such as one-class SVM, Autoencoder, and Isolation Forest can be used to identify outliers or abnormal patterns in the data.\n",
    "\n",
    "# Time-series analysis\n",
    "# Techniques such as time-series decomposition, ARIMA, and LSTM can be used to analyze the temporal dynamics of the fNIRS data and identify trends or patterns over time."
   ]
  },
  {
   "cell_type": "code",
   "execution_count": null,
   "id": "bb4d5136",
   "metadata": {},
   "outputs": [],
   "source": [
    "# Recurring values that we will allow for users to change in the GUI\n",
    "\n",
    "# Length of the measured interval\n",
    "interval_length = 15\n",
    "\n",
    "# Time from trigger point being evaluated\n",
    "tmin = -1\n",
    "tmax = 15\n",
    "\n",
    "# How you would like to rename the numeric triggers from Aurora\n",
    "trigger_id = {'4': 'Control', '2': 'Neutral', '3': 'Inflammatory', '1':'Practice'}\n",
    "\n",
    "# What files would you like to ignore while looping through subjects\n",
    "ignore = [\".DS_Store\", \"sub-03\"]\n",
    "\n",
    "# File path to the folder containing the BIDS data.\n",
    "root_dir = '../../LabResearch/IndependentStudy/DataAnalysis'\n",
    "\n",
    "# Mock data folder to test pulling meta data from folder structure.\n",
    "path = \"../../LabResearch/IndependentStudy/Data\"\n",
    "\n",
    "# Does the study have variable task lengths or is it consistent?\n",
    "variable_epoch_time = True\n"
   ]
  },
  {
   "cell_type": "markdown",
   "id": "d59fd47b",
   "metadata": {},
   "source": [
    "## Find Groups and Subjects from Folder Structure"
   ]
  },
  {
   "cell_type": "code",
   "execution_count": null,
   "id": "7e0083c4",
   "metadata": {},
   "outputs": [],
   "source": [
    "groups, df = system_file_io.import_data_folder(path, ignore)\n",
    "df"
   ]
  },
  {
   "cell_type": "markdown",
   "id": "873279e7",
   "metadata": {},
   "source": [
    "# Loop through subjects for individual analysis"
   ]
  },
  {
   "cell_type": "code",
   "execution_count": null,
   "id": "4178b6af",
   "metadata": {},
   "outputs": [],
   "source": [
    "# TODO: Need to loop through this in order to get both groups\n",
    "group = 'direct'\n",
    "paths = df[df.eq(group).any(1)]['snirf_path'].to_numpy()\n",
    "print(paths)"
   ]
  },
  {
   "cell_type": "code",
   "execution_count": null,
   "id": "21c99457",
   "metadata": {},
   "outputs": [],
   "source": [
    "importlib.reload(quality_eval)\n",
    "# Run a Signal Quality Check\n",
    "\n",
    "# for path in paths:\n",
    "    # quality_eval.evaluate_raw_signal(path)\n",
    "    # quality_eval.evaluate_sci(path)\n"
   ]
  },
  {
   "cell_type": "code",
   "execution_count": null,
   "id": "e4dfaa2a",
   "metadata": {},
   "outputs": [],
   "source": [
    "# Works for both block and variable interval lengths\n",
    "all_epochs = analysis_tools.aggregate_epochs(paths=paths, trigger_id=trigger_id, variable_epoch_time = variable_epoch_time)\n",
    "\n",
    "all_epochs"
   ]
  },
  {
   "cell_type": "markdown",
   "id": "e6787726",
   "metadata": {},
   "source": [
    "# Extract Evoked Amplitude\n"
   ]
  },
  {
   "cell_type": "code",
   "execution_count": null,
   "id": "985a5fa0",
   "metadata": {},
   "outputs": [],
   "source": [
    "importlib.reload(analysis_tools)\n",
    "\n",
    "# df = analysis_tools.extract_average_amplitudes(all_epochs, tmin, tmax)\n",
    "\n",
    "df = analysis_tools.extract_channel_values(all_epochs)\n",
    "df\n",
    "\n",
    "# df"
   ]
  },
  {
   "cell_type": "code",
   "execution_count": null,
   "id": "e1acdd78",
   "metadata": {},
   "outputs": [],
   "source": [
    "#TODO: This should be fixed to create the DF properly but it's not imperetive to the project.\n",
    "# more of a nice to have if anything.\n",
    "\n",
    "# importlib.reload(analysis_tools)\n",
    "# Returns all measurements taken with each column being a sample taking at a certain time and the rows are a participant hbo or hbr.\n",
    "# amplitudes = analysis_tools.extract_all_amplitudes(all_epochs, tmin, tmax)\n",
    "# amplitudes"
   ]
  },
  {
   "attachments": {},
   "cell_type": "markdown",
   "id": "5ff874e3",
   "metadata": {},
   "source": [
    "# Statistical Tests"
   ]
  },
  {
   "cell_type": "code",
   "execution_count": null,
   "id": "e0291b87",
   "metadata": {},
   "outputs": [],
   "source": [
    "# Plot the Data\n",
    "sns.catplot(x=\"Condition\", y=\"Value\", hue=\"ID\", data=df.query(\"Chroma == 'hbo'\"), ci=None, palette=\"muted\", height=4, s=10)\n",
    "plt.show()"
   ]
  },
  {
   "cell_type": "code",
   "execution_count": null,
   "id": "969a2c00",
   "metadata": {},
   "outputs": [],
   "source": [
    "# Inflammatory vs Neutral Prompt Analysis\n",
    "\n",
    "input_data = df.query(\"Condition in ['Neutral', 'Inflammatory']\")\n",
    "input_data = input_data.query(\"Chroma in ['hbo']\")\n",
    "\n",
    "model = smf.mixedlm(\"Value ~ Condition\", input_data, groups=input_data[\"ID\"]).fit()\n",
    "model.summary()"
   ]
  },
  {
   "cell_type": "code",
   "execution_count": null,
   "id": "ac71eb2d",
   "metadata": {},
   "outputs": [],
   "source": [
    "# Control vs Neutral Prompt Analysis\n",
    "\n",
    "input_data = df.query(\"Condition in ['Control', 'Neutral']\")\n",
    "input_data = input_data.query(\"Chroma in ['hbo']\")\n",
    "\n",
    "model = smf.mixedlm(\"Value ~ Condition\", input_data, groups=input_data[\"ID\"]).fit()\n",
    "model.summary()"
   ]
  },
  {
   "cell_type": "code",
   "execution_count": null,
   "id": "140fed3b",
   "metadata": {},
   "outputs": [],
   "source": [
    "# Control vs Inflam\n",
    "\n",
    "input_data = df.query(\"Condition in ['Control', 'Inflammatory']\")\n",
    "input_data = input_data.query(\"Chroma in ['hbo']\")\n",
    "\n",
    "model = smf.mixedlm(\"Value ~ Condition\", input_data, groups=input_data[\"ID\"]).fit()\n",
    "model.summary()"
   ]
  }
 ],
 "metadata": {
  "kernelspec": {
   "display_name": "Python 3.9.13 ('base')",
   "language": "python",
   "name": "python3"
  },
  "language_info": {
   "codemirror_mode": {
    "name": "ipython",
    "version": 3
   },
   "file_extension": ".py",
   "mimetype": "text/x-python",
   "name": "python",
   "nbconvert_exporter": "python",
   "pygments_lexer": "ipython3",
   "version": "3.9.13"
  },
  "vscode": {
   "interpreter": {
    "hash": "2aa5f1b5ca69a60e01984faab9e760efb8a58fb8834cef697905bc9b343526e6"
   }
  }
 },
 "nbformat": 4,
 "nbformat_minor": 5
}
