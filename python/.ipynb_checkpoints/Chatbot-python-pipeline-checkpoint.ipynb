{
 "cells": [
  {
   "cell_type": "code",
   "execution_count": 1,
   "id": "0a5d9cdf-a998-4e06-af13-2a2d09e96566",
   "metadata": {},
   "outputs": [],
   "source": [
    "# Porting over the matlab code into python to see if we can reproduce results with the MNE library."
   ]
  },
  {
   "cell_type": "code",
   "execution_count": null,
   "id": "1a550b38-9e16-4193-8bf5-d2956d6c3e5c",
   "metadata": {},
   "outputs": [],
   "source": [
    "import nirs\n",
    "import statsmodels.formula.api as smf"
   ]
  },
  {
   "cell_type": "code",
   "execution_count": null,
   "id": "529511ba-566b-4ce1-ba9f-7b3abbbbfe8b",
   "metadata": {},
   "outputs": [],
   "source": [
    "# Tip for using machine learning for exploratory type data analysis\n",
    "\n",
    "# Use principal component analysis (PCA) or independent component analysis (ICA), \n",
    "# to identify patterns in the fNIRS data that are not immediately obvious. \n",
    "# This can be used to identify latent neural networks or to identify different sources of signal variation.\n",
    "\n",
    "# ==========================================================\n",
    "\n",
    "# I'm curious how we could incorportate these into the data analsyis pipeline\n",
    "\n",
    "# Anomaly detection\n",
    "# Unsupervised learning algorithms such as one-class SVM, Autoencoder, and Isolation Forest can be used to identify outliers or abnormal patterns in the data.\n",
    "\n",
    "# Time-series analysis\n",
    "# Techniques such as time-series decomposition, ARIMA, and LSTM can be used to analyze the temporal dynamics of the fNIRS data and identify trends or patterns over time."
   ]
  },
  {
   "cell_type": "code",
   "execution_count": null,
   "id": "9bbca4bb-6c98-487b-9a8a-9832eed8debf",
   "metadata": {},
   "outputs": [],
   "source": []
  }
 ],
 "metadata": {
  "kernelspec": {
   "display_name": "Python 3 (ipykernel)",
   "language": "python",
   "name": "python3"
  },
  "language_info": {
   "codemirror_mode": {
    "name": "ipython",
    "version": 3
   },
   "file_extension": ".py",
   "mimetype": "text/x-python",
   "name": "python",
   "nbconvert_exporter": "python",
   "pygments_lexer": "ipython3",
   "version": "3.9.13"
  }
 },
 "nbformat": 4,
 "nbformat_minor": 5
}
