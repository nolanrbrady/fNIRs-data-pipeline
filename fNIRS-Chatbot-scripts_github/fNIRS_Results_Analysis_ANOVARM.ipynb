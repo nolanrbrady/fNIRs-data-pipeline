{
 "cells": [
  {
   "cell_type": "code",
   "execution_count": 1,
   "metadata": {
    "ExecuteTime": {
     "end_time": "2022-09-09T04:54:00.446761Z",
     "start_time": "2022-09-09T04:54:00.443917Z"
    }
   },
   "outputs": [
    {
     "name": "stderr",
     "output_type": "stream",
     "text": [
      "/Users/xuhan/opt/anaconda3/lib/python3.8/site-packages/outdated/utils.py:14: OutdatedPackageWarning: The package outdated is out of date. Your version is 0.2.1, the latest is 0.2.2.\n",
      "Set the environment variable OUTDATED_IGNORE=1 to disable these warnings.\n",
      "  return warn(\n"
     ]
    }
   ],
   "source": [
    "import pandas as pd\n",
    "import matplotlib.pyplot as plt\n",
    "import statsmodels.api as sm\n",
    "from statsmodels.formula.api import ols\n",
    "from statsmodels.stats.anova import AnovaRM\n",
    "import pingouin as pg"
   ]
  },
  {
   "cell_type": "code",
   "execution_count": 2,
   "metadata": {
    "ExecuteTime": {
     "end_time": "2022-09-09T04:54:01.971321Z",
     "start_time": "2022-09-09T04:54:01.549533Z"
    }
   },
   "outputs": [],
   "source": [
    "xls = pd.ExcelFile('fNIRS_chatbot_anova.xlsx')\n",
    "df= pd.read_excel(xls)"
   ]
  },
  {
   "cell_type": "code",
   "execution_count": 3,
   "metadata": {},
   "outputs": [],
   "source": [
    "df = df[df.subjectID != 21]"
   ]
  },
  {
   "cell_type": "code",
   "execution_count": 4,
   "metadata": {},
   "outputs": [],
   "source": [
    "#df = df[df.subjectID != 6]"
   ]
  },
  {
   "cell_type": "code",
   "execution_count": 5,
   "metadata": {},
   "outputs": [],
   "source": [
    "#df = df[df.source == 3]"
   ]
  },
  {
   "cell_type": "code",
   "execution_count": 6,
   "metadata": {},
   "outputs": [],
   "source": [
    "#df = df[df.detector == 3]"
   ]
  },
  {
   "cell_type": "code",
   "execution_count": 7,
   "metadata": {
    "ExecuteTime": {
     "end_time": "2022-09-09T04:54:03.087083Z",
     "start_time": "2022-09-09T04:54:03.050967Z"
    }
   },
   "outputs": [],
   "source": [
    "#df = df.drop(['order'], axis=1)\n",
    "df = df[(df['type']=='hbo')]\n",
    "#df = df[(df['type']=='hbr')]"
   ]
  },
  {
   "cell_type": "code",
   "execution_count": 8,
   "metadata": {},
   "outputs": [],
   "source": [
    "df = df.groupby(['subjectID','source','detector','type','cond']).mean().reset_index()"
   ]
  },
  {
   "cell_type": "code",
   "execution_count": 9,
   "metadata": {},
   "outputs": [],
   "source": [
    "df['responseType'] = df['cond'].apply(lambda x: 'open' if 'open' in x else 'choice')\n",
    "df['Personality'] = df['cond'].apply(lambda x: 'agreeable' if 'agreeable' in x else 'neutral')"
   ]
  },
  {
   "cell_type": "code",
   "execution_count": 7,
   "metadata": {},
   "outputs": [],
   "source": [
    "df.to_excel('averaged.xlsx')"
   ]
  },
  {
   "cell_type": "code",
   "execution_count": 8,
   "metadata": {},
   "outputs": [
    {
     "data": {
      "text/plain": [
       "(-0.4917758831869408, -0.48667637227378197)"
      ]
     },
     "execution_count": 8,
     "metadata": {},
     "output_type": "execute_result"
    }
   ],
   "source": [
    "df[df['responseType']=='choice']['beta'].mean(),df[df['responseType']=='open']['beta'].mean()"
   ]
  },
  {
   "cell_type": "code",
   "execution_count": 10,
   "metadata": {
    "ExecuteTime": {
     "end_time": "2022-09-09T04:54:05.136413Z",
     "start_time": "2022-09-09T04:54:05.127228Z"
    }
   },
   "outputs": [],
   "source": [
    "df_open_agreeable = df[(df['responseType']=='open') & (df['Personality']=='agreeable')]\n",
    "df_open_neutral = df[(df['responseType']=='open') & (df['Personality']=='neutral')]\n",
    "df_choice_agreeable = df[(df['responseType']=='choice') & (df['Personality']=='agreeable')]\n",
    "df_choice_neutral = df[(df['responseType']=='choice') & (df['Personality']=='neutral')]"
   ]
  },
  {
   "cell_type": "code",
   "execution_count": 11,
   "metadata": {
    "ExecuteTime": {
     "end_time": "2022-09-09T04:54:06.159234Z",
     "start_time": "2022-09-09T04:54:06.153826Z"
    }
   },
   "outputs": [
    {
     "data": {
      "text/plain": [
       "320"
      ]
     },
     "execution_count": 11,
     "metadata": {},
     "output_type": "execute_result"
    }
   ],
   "source": [
    "len(df_open_agreeable)"
   ]
  },
  {
   "cell_type": "code",
   "execution_count": 12,
   "metadata": {
    "ExecuteTime": {
     "end_time": "2022-09-09T04:54:06.720618Z",
     "start_time": "2022-09-09T04:54:06.715385Z"
    }
   },
   "outputs": [
    {
     "data": {
      "text/plain": [
       "320"
      ]
     },
     "execution_count": 12,
     "metadata": {},
     "output_type": "execute_result"
    }
   ],
   "source": [
    "len(df_open_neutral)"
   ]
  },
  {
   "cell_type": "code",
   "execution_count": 13,
   "metadata": {
    "ExecuteTime": {
     "end_time": "2022-09-09T04:54:07.149806Z",
     "start_time": "2022-09-09T04:54:07.145427Z"
    }
   },
   "outputs": [
    {
     "data": {
      "text/plain": [
       "320"
      ]
     },
     "execution_count": 13,
     "metadata": {},
     "output_type": "execute_result"
    }
   ],
   "source": [
    "len(df_choice_agreeable)"
   ]
  },
  {
   "cell_type": "code",
   "execution_count": 14,
   "metadata": {
    "ExecuteTime": {
     "end_time": "2022-09-09T04:54:07.562409Z",
     "start_time": "2022-09-09T04:54:07.557979Z"
    }
   },
   "outputs": [
    {
     "data": {
      "text/plain": [
       "320"
      ]
     },
     "execution_count": 14,
     "metadata": {},
     "output_type": "execute_result"
    }
   ],
   "source": [
    "len(df_choice_neutral)"
   ]
  },
  {
   "cell_type": "code",
   "execution_count": 15,
   "metadata": {},
   "outputs": [
    {
     "name": "stdout",
     "output_type": "stream",
     "text": [
      "source: 1, detector: 1\n",
      "                       Source        SS  ddof1  ddof2        MS         F  \\\n",
      "0                responseType  0.000642      1     15  0.000642  0.040178   \n",
      "1                 Personality  0.006068      1     15  0.006068  0.251946   \n",
      "2  responseType * Personality  0.083712      1     15  0.083712  2.092851   \n",
      "\n",
      "      p-unc  p-GG-corr       ng2  eps  \n",
      "0  0.843826   0.843826  0.000397  1.0  \n",
      "1  0.622996   0.622996  0.003739  1.0  \n",
      "2  0.168563   0.168563  0.049231  1.0  \n",
      "source: 1, detector: 2\n",
      "                       Source        SS  ddof1  ddof2        MS         F  \\\n",
      "0                responseType  0.012515      1     15  0.012515  0.394587   \n",
      "1                 Personality  0.000002      1     15  0.000002  0.000047   \n",
      "2  responseType * Personality  0.004731      1     15  0.004731  0.313531   \n",
      "\n",
      "      p-unc  p-GG-corr       ng2  eps  \n",
      "0  0.539345   0.539345  0.008500  1.0  \n",
      "1  0.994628   0.994628  0.000001  1.0  \n",
      "2  0.583788   0.583788  0.003231  1.0  \n",
      "source: 1, detector: 3\n",
      "source: 1, detector: 4\n",
      "source: 1, detector: 5\n",
      "source: 1, detector: 6\n",
      "source: 1, detector: 7\n",
      "source: 2, detector: 1\n",
      "                       Source        SS  ddof1  ddof2        MS         F  \\\n",
      "0                responseType  0.000729      1     15  0.000729  0.048088   \n",
      "1                 Personality  0.032172      1     15  0.032172  2.664978   \n",
      "2  responseType * Personality  0.000463      1     15  0.000463  0.013066   \n",
      "\n",
      "      p-unc  p-GG-corr       ng2  eps  \n",
      "0  0.829381   0.829381  0.000378  1.0  \n",
      "1  0.123390   0.123390  0.016422  1.0  \n",
      "2  0.910510   0.910510  0.000240  1.0  \n",
      "source: 2, detector: 2\n",
      "source: 2, detector: 3\n",
      "                       Source        SS  ddof1  ddof2        MS         F  \\\n",
      "0                responseType  0.039105      1     15  0.039105  2.051443   \n",
      "1                 Personality  0.009980      1     15  0.009980  0.708313   \n",
      "2  responseType * Personality  0.022935      1     15  0.022935  1.592353   \n",
      "\n",
      "      p-unc  p-GG-corr       ng2  eps  \n",
      "0  0.172571   0.172571  0.026584  1.0  \n",
      "1  0.413221   0.413221  0.006922  1.0  \n",
      "2  0.226260   0.226260  0.015765  1.0  \n",
      "source: 2, detector: 4\n",
      "source: 2, detector: 5\n",
      "source: 2, detector: 6\n",
      "source: 2, detector: 7\n",
      "source: 3, detector: 1\n",
      "                       Source        SS  ddof1  ddof2        MS         F  \\\n",
      "0                responseType  0.001236      1     15  0.001236  0.054519   \n",
      "1                 Personality  0.003035      1     15  0.003035  0.149462   \n",
      "2  responseType * Personality  0.018944      1     15  0.018944  1.161418   \n",
      "\n",
      "      p-unc  p-GG-corr       ng2  eps  \n",
      "0  0.818535   0.818535  0.000603  1.0  \n",
      "1  0.704479   0.704479  0.001478  1.0  \n",
      "2  0.298199   0.298199  0.009156  1.0  \n",
      "source: 3, detector: 2\n",
      "source: 3, detector: 3\n",
      "                       Source        SS  ddof1  ddof2        MS         F  \\\n",
      "0                responseType  0.012507      1     15  0.012507  0.528807   \n",
      "1                 Personality  0.076441      1     15  0.076441  3.727723   \n",
      "2  responseType * Personality  0.038927      1     15  0.038927  2.672219   \n",
      "\n",
      "      p-unc  p-GG-corr       ng2  eps  \n",
      "0  0.478306   0.478306  0.008769  1.0  \n",
      "1  0.072642   0.072642  0.051293  1.0  \n",
      "2  0.122920   0.122920  0.026795  1.0  \n",
      "source: 3, detector: 4\n",
      "                       Source        SS  ddof1  ddof2        MS         F  \\\n",
      "0                responseType  0.000884      1     15  0.000884  0.052188   \n",
      "1                 Personality  0.000133      1     15  0.000133  0.017487   \n",
      "2  responseType * Personality  0.046763      1     15  0.046763  3.454461   \n",
      "\n",
      "      p-unc  p-GG-corr       ng2  eps  \n",
      "0  0.822384   0.822384  0.000943  1.0  \n",
      "1  0.896554   0.896554  0.000142  1.0  \n",
      "2  0.082815   0.082815  0.047573  1.0  \n",
      "source: 3, detector: 5\n",
      "source: 3, detector: 6\n",
      "source: 3, detector: 7\n",
      "source: 4, detector: 1\n",
      "source: 4, detector: 2\n",
      "                       Source        SS  ddof1  ddof2        MS         F  \\\n",
      "0                responseType  0.008931      1     15  0.008931  0.695448   \n",
      "1                 Personality  0.001362      1     15  0.001362  0.078793   \n",
      "2  responseType * Personality  0.007818      1     15  0.007818  0.294996   \n",
      "\n",
      "      p-unc  p-GG-corr       ng2  eps  \n",
      "0  0.417401   0.417401  0.006698  1.0  \n",
      "1  0.782775   0.782775  0.001027  1.0  \n",
      "2  0.595016   0.595016  0.005868  1.0  \n",
      "source: 4, detector: 3\n",
      "source: 4, detector: 4\n",
      "                       Source        SS  ddof1  ddof2        MS         F  \\\n",
      "0                responseType  0.025690      1     15  0.025690  0.926968   \n",
      "1                 Personality  0.003111      1     15  0.003111  0.184822   \n",
      "2  responseType * Personality  0.031645      1     15  0.031645  1.454755   \n",
      "\n",
      "      p-unc  p-GG-corr       ng2  eps  \n",
      "0  0.350917   0.350917  0.015697  1.0  \n",
      "1  0.673374   0.673374  0.001927  1.0  \n",
      "2  0.246447   0.246447  0.019266  1.0  \n",
      "source: 4, detector: 5\n",
      "                       Source        SS  ddof1  ddof2        MS         F  \\\n",
      "0                responseType  0.001023      1     15  0.001023  0.112265   \n",
      "1                 Personality  0.002198      1     15  0.002198  0.084821   \n",
      "2  responseType * Personality  0.020170      1     15  0.020170  1.539625   \n",
      "\n",
      "      p-unc  p-GG-corr       ng2  eps  \n",
      "0  0.742220   0.742220  0.001000  1.0  \n",
      "1  0.774856   0.774856  0.002148  1.0  \n",
      "2  0.233730   0.233730  0.019369  1.0  \n",
      "source: 4, detector: 6\n",
      "source: 4, detector: 7\n",
      "source: 5, detector: 1\n",
      "source: 5, detector: 2\n",
      "source: 5, detector: 3\n",
      "                       Source        SS  ddof1  ddof2        MS         F  \\\n",
      "0                responseType  0.009628      1     15  0.009628  0.401124   \n",
      "1                 Personality  0.000406      1     15  0.000406  0.066419   \n",
      "2  responseType * Personality  0.002075      1     15  0.002075  0.121866   \n",
      "\n",
      "      p-unc  p-GG-corr       ng2  eps  \n",
      "0  0.536047   0.536047  0.008085  1.0  \n",
      "1  0.800127   0.800127  0.000343  1.0  \n",
      "2  0.731872   0.731872  0.001754  1.0  \n",
      "source: 5, detector: 4\n",
      "                       Source        SS  ddof1  ddof2        MS         F  \\\n",
      "0                responseType  0.017581      1     15  0.017581  0.443517   \n",
      "1                 Personality  0.028365      1     15  0.028365  1.405219   \n",
      "2  responseType * Personality  0.028374      1     15  0.028374  3.742119   \n",
      "\n",
      "      p-unc  p-GG-corr       ng2  eps  \n",
      "0  0.515542   0.515542  0.011976  1.0  \n",
      "1  0.254292   0.254292  0.019181  1.0  \n",
      "2  0.072148   0.072148  0.019187  1.0  \n",
      "source: 5, detector: 5\n",
      "source: 5, detector: 6\n",
      "                       Source        SS  ddof1  ddof2        MS         F  \\\n",
      "0                responseType  0.000570      1     15  0.000570  0.039697   \n",
      "1                 Personality  0.001841      1     15  0.001841  0.159655   \n",
      "2  responseType * Personality  0.052346      1     15  0.052346  2.390115   \n",
      "\n",
      "      p-unc  p-GG-corr       ng2  eps  \n",
      "0  0.844750   0.844750  0.000413  1.0  \n",
      "1  0.695106   0.695106  0.001332  1.0  \n",
      "2  0.142939   0.142939  0.036546  1.0  \n",
      "source: 5, detector: 7\n",
      "source: 6, detector: 1\n",
      "source: 6, detector: 2\n",
      "source: 6, detector: 3\n",
      "source: 6, detector: 4\n",
      "                       Source        SS  ddof1  ddof2        MS         F  \\\n",
      "0                responseType  0.020555      1     15  0.020555  1.327597   \n",
      "1                 Personality  0.007739      1     15  0.007739  0.460942   \n",
      "2  responseType * Personality  0.025439      1     15  0.025439  2.037880   \n",
      "\n",
      "      p-unc  p-GG-corr       ng2  eps  \n",
      "0  0.267266   0.267266  0.011990  1.0  \n",
      "1  0.507525   0.507525  0.004548  1.0  \n",
      "2  0.173910   0.173910  0.014797  1.0  \n",
      "source: 6, detector: 5\n",
      "source: 6, detector: 6\n",
      "                       Source        SS  ddof1  ddof2        MS         F  \\\n",
      "0                responseType  0.001530      1     15  0.001530  0.065926   \n",
      "1                 Personality  0.001104      1     15  0.001104  0.070903   \n",
      "2  responseType * Personality  0.000460      1     15  0.000460  0.032214   \n",
      "\n",
      "      p-unc  p-GG-corr       ng2  eps  \n",
      "0  0.800853   0.800853  0.001155  1.0  \n",
      "1  0.793652   0.793652  0.000833  1.0  \n",
      "2  0.859960   0.859960  0.000348  1.0  \n",
      "source: 6, detector: 7\n",
      "                       Source        SS  ddof1  ddof2        MS         F  \\\n",
      "0                responseType  0.004084      1     15  0.004084  0.172236   \n",
      "1                 Personality  0.001105      1     15  0.001105  0.030907   \n",
      "2  responseType * Personality  0.003478      1     15  0.003478  0.192391   \n",
      "\n",
      "      p-unc  p-GG-corr       ng2  eps  \n",
      "0  0.684007   0.684007  0.003025  1.0  \n",
      "1  0.862800   0.862800  0.000821  1.0  \n",
      "2  0.667185   0.667185  0.002578  1.0  \n",
      "source: 7, detector: 1\n",
      "source: 7, detector: 2\n",
      "source: 7, detector: 3\n",
      "source: 7, detector: 4\n",
      "source: 7, detector: 5\n",
      "                       Source        SS  ddof1  ddof2        MS         F  \\\n",
      "0                responseType  0.011120      1     15  0.011120  0.645728   \n",
      "1                 Personality  0.002925      1     15  0.002925  0.094570   \n",
      "2  responseType * Personality  0.000071      1     15  0.000071  0.011979   \n",
      "\n",
      "      p-unc  p-GG-corr       ng2  eps  \n",
      "0  0.434194   0.434194  0.010079  1.0  \n",
      "1  0.762674   0.762674  0.002671  1.0  \n",
      "2  0.914299   0.914299  0.000065  1.0  \n",
      "source: 7, detector: 6\n",
      "source: 7, detector: 7\n",
      "                       Source        SS  ddof1  ddof2        MS         F  \\\n",
      "0                responseType  0.001967      1     15  0.001967  0.144422   \n",
      "1                 Personality  0.006568      1     15  0.006568  0.180259   \n",
      "2  responseType * Personality  0.027546      1     15  0.027546  1.613264   \n",
      "\n",
      "      p-unc  p-GG-corr       ng2  eps  \n",
      "0  0.709251   0.709251  0.001533  1.0  \n",
      "1  0.677178   0.677178  0.005102  1.0  \n",
      "2  0.223383   0.223383  0.021051  1.0  \n",
      "source: 8, detector: 1\n",
      "source: 8, detector: 2\n",
      "source: 8, detector: 3\n",
      "source: 8, detector: 4\n",
      "source: 8, detector: 5\n",
      "source: 8, detector: 6\n",
      "                       Source        SS  ddof1  ddof2        MS         F  \\\n",
      "0                responseType  0.009908      1     15  0.009908  0.710323   \n",
      "1                 Personality  0.017806      1     15  0.017806  0.999085   \n",
      "2  responseType * Personality  0.002358      1     15  0.002358  0.081910   \n",
      "\n",
      "      p-unc  p-GG-corr       ng2  eps  \n",
      "0  0.412574   0.412574  0.009236  1.0  \n",
      "1  0.333385   0.333385  0.016477  1.0  \n",
      "2  0.778640   0.778640  0.002214  1.0  \n",
      "source: 8, detector: 7\n"
     ]
    },
    {
     "name": "stdout",
     "output_type": "stream",
     "text": [
      "                       Source        SS  ddof1  ddof2        MS         F  \\\n",
      "0                responseType  0.002181      1     15  0.002181  0.081486   \n",
      "1                 Personality  0.007841      1     15  0.007841  0.462088   \n",
      "2  responseType * Personality  0.013148      1     15  0.013148  0.895835   \n",
      "\n",
      "      p-unc  p-GG-corr       ng2  eps  \n",
      "0  0.779198   0.779198  0.001808  1.0  \n",
      "1  0.507006   0.507006  0.006468  1.0  \n",
      "2  0.358900   0.358900  0.010799  1.0  \n"
     ]
    }
   ],
   "source": [
    "for source in range(1,9):\n",
    "    for detector in range(1, 8):\n",
    "        print(f'source: {source}, detector: {detector}')\n",
    "        df_tmp = df[(df['source']==source)&(df['detector']==detector)]\n",
    "        if len(df_tmp)==0:\n",
    "            continue\n",
    "        res = pg.rm_anova(dv='beta', within=['responseType','Personality'], subject='subjectID', \n",
    "                  data=df_tmp, detailed=True)\n",
    "        \n",
    "        print(res)"
   ]
  },
  {
   "cell_type": "code",
   "execution_count": null,
   "metadata": {},
   "outputs": [],
   "source": [
    "res = pg.rm_anova(dv='Selfreported_cognitiveload', within=['responseType','Personality'], subject='Subj_ID', \n",
    "                  data=df, detailed=True)\n",
    "res"
   ]
  },
  {
   "cell_type": "code",
   "execution_count": null,
   "metadata": {},
   "outputs": [],
   "source": [
    "df_open_agreeable"
   ]
  },
  {
   "cell_type": "code",
   "execution_count": null,
   "metadata": {},
   "outputs": [],
   "source": []
  },
  {
   "cell_type": "code",
   "execution_count": null,
   "metadata": {},
   "outputs": [],
   "source": []
  },
  {
   "cell_type": "code",
   "execution_count": null,
   "metadata": {},
   "outputs": [],
   "source": []
  },
  {
   "cell_type": "code",
   "execution_count": null,
   "metadata": {},
   "outputs": [],
   "source": []
  },
  {
   "cell_type": "code",
   "execution_count": null,
   "metadata": {
    "ExecuteTime": {
     "end_time": "2022-09-09T04:54:08.149672Z",
     "start_time": "2022-09-09T04:54:08.126568Z"
    }
   },
   "outputs": [],
   "source": [
    "df_mean = df_open_agreeable.mean().to_frame() + df_open_neutral.mean().to_frame() + df_choice_agreeable.mean().to_frame() + df_choice_neutral.mean().to_frame()"
   ]
  },
  {
   "cell_type": "code",
   "execution_count": null,
   "metadata": {
    "ExecuteTime": {
     "end_time": "2022-09-09T04:54:09.054957Z",
     "start_time": "2022-09-09T04:54:09.042351Z"
    }
   },
   "outputs": [],
   "source": [
    "df_mean['open_agreeable'] = df_open_agreeable.mean().to_frame()\n",
    "df_mean['open_neutral'] = df_open_neutral.mean().to_frame()\n",
    "df_mean['choice_agreeable'] = df_choice_agreeable.mean().to_frame()\n",
    "df_mean['choice_neutral'] = df_choice_neutral.mean().to_frame()"
   ]
  },
  {
   "cell_type": "code",
   "execution_count": null,
   "metadata": {
    "ExecuteTime": {
     "end_time": "2022-09-09T04:54:09.792862Z",
     "start_time": "2022-09-09T04:54:09.781070Z"
    }
   },
   "outputs": [],
   "source": [
    "df_mean"
   ]
  },
  {
   "cell_type": "code",
   "execution_count": null,
   "metadata": {
    "ExecuteTime": {
     "end_time": "2022-09-09T04:54:10.350963Z",
     "start_time": "2022-09-09T04:54:10.321394Z"
    }
   },
   "outputs": [],
   "source": [
    "df_std = df_open_agreeable.std().to_frame() + df_open_neutral.std().to_frame() + df_choice_agreeable.std().to_frame() + df_choice_neutral.std().to_frame()\n",
    "df_std['open_agreeable'] = df_open_agreeable.std().to_frame()\n",
    "df_std['open_neutral'] = df_open_neutral.std().to_frame()\n",
    "df_std['choice_agreeable'] = df_choice_agreeable.std().to_frame()\n",
    "df_std['choice_neutral'] = df_choice_neutral.std().to_frame()\n",
    "df_std"
   ]
  },
  {
   "cell_type": "code",
   "execution_count": null,
   "metadata": {
    "ExecuteTime": {
     "end_time": "2022-09-09T04:54:14.915357Z",
     "start_time": "2022-09-09T04:54:10.826156Z"
    }
   },
   "outputs": [],
   "source": [
    "import statsmodels.api as sm\n",
    "from statsmodels.formula.api import ols\n",
    "from statsmodels.stats.anova import AnovaRM\n",
    "import pingouin as pg"
   ]
  },
  {
   "cell_type": "code",
   "execution_count": null,
   "metadata": {
    "ExecuteTime": {
     "end_time": "2022-09-09T04:54:16.160399Z",
     "start_time": "2022-09-09T04:54:16.156938Z"
    }
   },
   "outputs": [],
   "source": [
    "#Selfreported_cognitiveload, Friendly, Enjoyable, Helpful, Interesting, Satisfaction, Trust, Error"
   ]
  },
  {
   "cell_type": "code",
   "execution_count": null,
   "metadata": {
    "ExecuteTime": {
     "end_time": "2022-09-09T04:54:17.637068Z",
     "start_time": "2022-09-09T04:54:17.550200Z"
    }
   },
   "outputs": [],
   "source": [
    "res = pg.rm_anova(dv='Selfreported_cognitiveload', within=['responseType','Personality'], subject='Subj_ID', \n",
    "                  data=df, detailed=True)\n",
    "res"
   ]
  },
  {
   "cell_type": "code",
   "execution_count": null,
   "metadata": {
    "ExecuteTime": {
     "end_time": "2022-09-09T04:54:23.524353Z",
     "start_time": "2022-09-09T04:54:23.439689Z"
    }
   },
   "outputs": [],
   "source": [
    "#post-hoc test\n",
    "post_hocs = pg.pairwise_ttests(dv='Selfreported_cognitiveload', within=['responseType','Personality'], subject='Subj_ID', padjust='fdr_bh', data=df)\n",
    "post_hocs"
   ]
  },
  {
   "cell_type": "code",
   "execution_count": null,
   "metadata": {
    "ExecuteTime": {
     "end_time": "2022-09-09T04:54:25.472507Z",
     "start_time": "2022-09-09T04:54:25.389537Z"
    }
   },
   "outputs": [],
   "source": [
    "res = pg.rm_anova(dv='Friendly', within=['responseType','Personality'], subject='Subj_ID', \n",
    "                  data=df, detailed=True)\n",
    "res"
   ]
  },
  {
   "cell_type": "code",
   "execution_count": null,
   "metadata": {
    "ExecuteTime": {
     "end_time": "2022-09-09T04:54:30.260700Z",
     "start_time": "2022-09-09T04:54:30.177793Z"
    }
   },
   "outputs": [],
   "source": [
    "#post-hoc test\n",
    "post_hocs = pg.pairwise_ttests(dv='Friendly', within=['responseType','Personality'], subject='Subj_ID', padjust='fdr_bh', data=df)\n",
    "post_hocs"
   ]
  },
  {
   "cell_type": "code",
   "execution_count": null,
   "metadata": {
    "ExecuteTime": {
     "end_time": "2022-09-09T04:54:35.587435Z",
     "start_time": "2022-09-09T04:54:35.492373Z"
    }
   },
   "outputs": [],
   "source": [
    "res = pg.rm_anova(dv='Enjoyable', within=['responseType','Personality'], subject='Subj_ID', \n",
    "                  data=df, detailed=True)\n",
    "res"
   ]
  },
  {
   "cell_type": "code",
   "execution_count": null,
   "metadata": {
    "ExecuteTime": {
     "end_time": "2022-09-09T04:54:49.433236Z",
     "start_time": "2022-09-09T04:54:49.349267Z"
    }
   },
   "outputs": [],
   "source": [
    "#post-hoc test\n",
    "post_hocs = pg.pairwise_ttests(dv='Enjoyable', within=['responseType','Personality'], subject='Subj_ID', padjust='fdr_bh', data=df)\n",
    "post_hocs"
   ]
  },
  {
   "cell_type": "code",
   "execution_count": null,
   "metadata": {},
   "outputs": [],
   "source": []
  },
  {
   "cell_type": "code",
   "execution_count": null,
   "metadata": {
    "ExecuteTime": {
     "end_time": "2022-09-09T04:54:52.241908Z",
     "start_time": "2022-09-09T04:54:52.160586Z"
    }
   },
   "outputs": [],
   "source": [
    "res = pg.rm_anova(dv='Helpful', within=['responseType','Personality'], subject='Subj_ID', \n",
    "                  data=df, detailed=True)\n",
    "res"
   ]
  },
  {
   "cell_type": "code",
   "execution_count": null,
   "metadata": {
    "ExecuteTime": {
     "end_time": "2022-09-09T04:55:03.265068Z",
     "start_time": "2022-09-09T04:55:03.181390Z"
    }
   },
   "outputs": [],
   "source": [
    "#post-hoc test\n",
    "post_hocs = pg.pairwise_ttests(dv='Helpful', within=['responseType','Personality'], subject='Subj_ID', padjust='fdr_bh', data=df)\n",
    "post_hocs"
   ]
  },
  {
   "cell_type": "code",
   "execution_count": null,
   "metadata": {
    "ExecuteTime": {
     "end_time": "2022-09-09T04:55:05.432293Z",
     "start_time": "2022-09-09T04:55:05.350358Z"
    }
   },
   "outputs": [],
   "source": [
    "res = pg.rm_anova(dv='Interesting', within=['responseType','Personality'], subject='Subj_ID', \n",
    "                  data=df, detailed=True)\n",
    "res"
   ]
  },
  {
   "cell_type": "code",
   "execution_count": null,
   "metadata": {
    "ExecuteTime": {
     "end_time": "2022-09-09T04:55:11.918302Z",
     "start_time": "2022-09-09T04:55:11.833175Z"
    }
   },
   "outputs": [],
   "source": [
    "#post-hoc test\n",
    "post_hocs = pg.pairwise_ttests(dv='Interesting', within=['responseType','Personality'], subject='Subj_ID', padjust='fdr_bh', data=df)\n",
    "post_hocs"
   ]
  },
  {
   "cell_type": "code",
   "execution_count": null,
   "metadata": {
    "ExecuteTime": {
     "end_time": "2022-09-09T04:55:13.486150Z",
     "start_time": "2022-09-09T04:55:13.397264Z"
    }
   },
   "outputs": [],
   "source": [
    "res = pg.rm_anova(dv='Satisfaction', within=['responseType','Personality'], subject='Subj_ID', \n",
    "                  data=df, detailed=True)\n",
    "res"
   ]
  },
  {
   "cell_type": "code",
   "execution_count": null,
   "metadata": {
    "ExecuteTime": {
     "end_time": "2022-09-09T04:55:17.916718Z",
     "start_time": "2022-09-09T04:55:17.835571Z"
    }
   },
   "outputs": [],
   "source": [
    "#post-hoc test\n",
    "post_hocs = pg.pairwise_ttests(dv='Satisfaction', within=['responseType','Personality'], subject='Subj_ID', padjust='fdr_bh', data=df)\n",
    "post_hocs"
   ]
  },
  {
   "cell_type": "code",
   "execution_count": null,
   "metadata": {
    "ExecuteTime": {
     "end_time": "2022-09-09T04:55:20.825779Z",
     "start_time": "2022-09-09T04:55:20.738880Z"
    }
   },
   "outputs": [],
   "source": [
    "res = pg.rm_anova(dv='Trust', within=['responseType','Personality'], subject='Subj_ID', \n",
    "                  data=df, detailed=True)\n",
    "res"
   ]
  },
  {
   "cell_type": "code",
   "execution_count": null,
   "metadata": {
    "ExecuteTime": {
     "end_time": "2022-09-09T04:55:25.678880Z",
     "start_time": "2022-09-09T04:55:25.598148Z"
    }
   },
   "outputs": [],
   "source": [
    "#post-hoc test\n",
    "post_hocs = pg.pairwise_ttests(dv='Trust', within=['responseType','Personality'], subject='Subj_ID', padjust='fdr_bh', data=df)\n",
    "post_hocs"
   ]
  },
  {
   "cell_type": "code",
   "execution_count": null,
   "metadata": {
    "ExecuteTime": {
     "end_time": "2022-09-09T04:55:29.697247Z",
     "start_time": "2022-09-09T04:55:29.615062Z"
    }
   },
   "outputs": [],
   "source": [
    "res = pg.rm_anova(dv='Error', within=['responseType','Personality'], subject='Subj_ID', \n",
    "                  data=df, detailed=True)\n",
    "res"
   ]
  },
  {
   "cell_type": "code",
   "execution_count": null,
   "metadata": {
    "ExecuteTime": {
     "end_time": "2022-09-09T04:55:35.116837Z",
     "start_time": "2022-09-09T04:55:35.034858Z"
    }
   },
   "outputs": [],
   "source": [
    "#post-hoc test\n",
    "post_hocs = pg.pairwise_ttests(dv='Error', within=['responseType','Personality'], subject='Subj_ID', padjust='fdr_bh', data=df)\n",
    "post_hocs"
   ]
  },
  {
   "cell_type": "code",
   "execution_count": 84,
   "metadata": {},
   "outputs": [
    {
     "data": {
      "text/plain": [
       "160"
      ]
     },
     "execution_count": 84,
     "metadata": {},
     "output_type": "execute_result"
    }
   ],
   "source": [
    "len(['choice', 'choice', 'choice', 'choice', 'choice', 'choice', 'choice', 'choice', 'choice', 'choice', 'choice', 'choice', 'choice', 'choice', 'choice', 'choice', 'choice', 'choice', 'choice', 'choice', 'choice', 'choice', 'choice', 'choice', 'choice', 'choice', 'choice', 'choice', 'choice', 'choice', 'choice', 'choice','choice', 'choice', 'choice', 'choice', 'choice', 'choice', 'choice', 'choice', 'open', 'open', 'open', 'open', 'open', 'open', 'open', 'open', 'open', 'open', 'open', 'open', 'open', 'open', 'open', 'open', 'open', 'open', 'open', 'open', 'open', 'open', 'open', 'open', 'open', 'open', 'open', 'open', 'open', 'open', 'open', 'open', 'open', 'open', 'open', 'open', 'open', 'open', 'open', 'open', 'open', 'open', 'open', 'open', 'open', 'open', 'open', 'open', 'open', 'open', 'open', 'open', 'open', 'open', 'open', 'open', 'open', 'open', 'open', 'open', 'open', 'open', 'open', 'open', 'open', 'open', 'open', 'open', 'open', 'open', 'open', 'open', 'open', 'open', 'open', 'open', 'open', 'open', 'open', 'open', 'choice', 'choice', 'choice', 'choice', 'choice', 'choice', 'choice', 'choice', 'choice', 'choice', 'choice', 'choice', 'choice', 'choice', 'choice', 'choice', 'choice', 'choice', 'choice', 'choice', 'choice', 'choice', 'choice', 'choice', 'choice', 'choice', 'choice', 'choice', 'choice', 'choice', 'choice', 'choice','choice', 'choice', 'choice', 'choice', 'choice', 'choice', 'choice', 'choice'])"
   ]
  },
  {
   "cell_type": "code",
   "execution_count": null,
   "metadata": {},
   "outputs": [],
   "source": []
  }
 ],
 "metadata": {
  "kernelspec": {
   "display_name": "Python 3",
   "language": "python",
   "name": "python3"
  },
  "language_info": {
   "codemirror_mode": {
    "name": "ipython",
    "version": 3
   },
   "file_extension": ".py",
   "mimetype": "text/x-python",
   "name": "python",
   "nbconvert_exporter": "python",
   "pygments_lexer": "ipython3",
   "version": "3.8.5"
  }
 },
 "nbformat": 4,
 "nbformat_minor": 4
}
