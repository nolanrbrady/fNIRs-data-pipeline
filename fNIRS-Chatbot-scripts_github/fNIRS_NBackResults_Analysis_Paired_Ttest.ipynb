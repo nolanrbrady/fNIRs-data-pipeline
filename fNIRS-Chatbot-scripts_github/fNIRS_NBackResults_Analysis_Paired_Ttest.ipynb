{
 "cells": [
  {
   "cell_type": "code",
   "execution_count": 283,
   "metadata": {
    "ExecuteTime": {
     "end_time": "2022-09-09T04:34:14.123019Z",
     "start_time": "2022-09-09T04:34:12.941796Z"
    }
   },
   "outputs": [],
   "source": [
    "import pandas as pd\n",
    "import matplotlib.pyplot as plt\n",
    "import statsmodels.api as sm\n",
    "from statsmodels.formula.api import ols\n",
    "from scipy import stats"
   ]
  },
  {
   "cell_type": "code",
   "execution_count": 297,
   "metadata": {
    "ExecuteTime": {
     "end_time": "2022-09-09T04:34:15.414032Z",
     "start_time": "2022-09-09T04:34:15.056517Z"
    }
   },
   "outputs": [],
   "source": [
    "xls = pd.ExcelFile('nback_firstlevel_BP_GLM_SSregressor.xlsx')\n",
    "df= pd.read_excel(xls)"
   ]
  },
  {
   "cell_type": "code",
   "execution_count": 298,
   "metadata": {},
   "outputs": [],
   "source": [
    "#df = df[df.subjectID != 21]"
   ]
  },
  {
   "cell_type": "code",
   "execution_count": 299,
   "metadata": {
    "ExecuteTime": {
     "end_time": "2022-09-09T04:34:16.152521Z",
     "start_time": "2022-09-09T04:34:16.120920Z"
    }
   },
   "outputs": [
    {
     "data": {
      "text/html": [
       "<div>\n",
       "<style scoped>\n",
       "    .dataframe tbody tr th:only-of-type {\n",
       "        vertical-align: middle;\n",
       "    }\n",
       "\n",
       "    .dataframe tbody tr th {\n",
       "        vertical-align: top;\n",
       "    }\n",
       "\n",
       "    .dataframe thead th {\n",
       "        text-align: right;\n",
       "    }\n",
       "</style>\n",
       "<table border=\"1\" class=\"dataframe\">\n",
       "  <thead>\n",
       "    <tr style=\"text-align: right;\">\n",
       "      <th></th>\n",
       "      <th>subjectID</th>\n",
       "      <th>source</th>\n",
       "      <th>detector</th>\n",
       "      <th>type</th>\n",
       "      <th>cond</th>\n",
       "      <th>beta</th>\n",
       "    </tr>\n",
       "  </thead>\n",
       "  <tbody>\n",
       "    <tr>\n",
       "      <th>0</th>\n",
       "      <td>6</td>\n",
       "      <td>1</td>\n",
       "      <td>1</td>\n",
       "      <td>hbo</td>\n",
       "      <td>x3_back</td>\n",
       "      <td>-0.998042</td>\n",
       "    </tr>\n",
       "    <tr>\n",
       "      <th>2</th>\n",
       "      <td>6</td>\n",
       "      <td>1</td>\n",
       "      <td>2</td>\n",
       "      <td>hbo</td>\n",
       "      <td>x3_back</td>\n",
       "      <td>0.537070</td>\n",
       "    </tr>\n",
       "    <tr>\n",
       "      <th>4</th>\n",
       "      <td>6</td>\n",
       "      <td>2</td>\n",
       "      <td>1</td>\n",
       "      <td>hbo</td>\n",
       "      <td>x3_back</td>\n",
       "      <td>-0.514659</td>\n",
       "    </tr>\n",
       "    <tr>\n",
       "      <th>6</th>\n",
       "      <td>6</td>\n",
       "      <td>2</td>\n",
       "      <td>3</td>\n",
       "      <td>hbo</td>\n",
       "      <td>x3_back</td>\n",
       "      <td>-1.564369</td>\n",
       "    </tr>\n",
       "    <tr>\n",
       "      <th>8</th>\n",
       "      <td>6</td>\n",
       "      <td>3</td>\n",
       "      <td>1</td>\n",
       "      <td>hbo</td>\n",
       "      <td>x3_back</td>\n",
       "      <td>-3.333951</td>\n",
       "    </tr>\n",
       "    <tr>\n",
       "      <th>...</th>\n",
       "      <td>...</td>\n",
       "      <td>...</td>\n",
       "      <td>...</td>\n",
       "      <td>...</td>\n",
       "      <td>...</td>\n",
       "      <td>...</td>\n",
       "    </tr>\n",
       "    <tr>\n",
       "      <th>1270</th>\n",
       "      <td>24</td>\n",
       "      <td>6</td>\n",
       "      <td>7</td>\n",
       "      <td>hbo</td>\n",
       "      <td>x3_back</td>\n",
       "      <td>1.682659</td>\n",
       "    </tr>\n",
       "    <tr>\n",
       "      <th>1272</th>\n",
       "      <td>24</td>\n",
       "      <td>7</td>\n",
       "      <td>5</td>\n",
       "      <td>hbo</td>\n",
       "      <td>x3_back</td>\n",
       "      <td>-39.975147</td>\n",
       "    </tr>\n",
       "    <tr>\n",
       "      <th>1274</th>\n",
       "      <td>24</td>\n",
       "      <td>7</td>\n",
       "      <td>7</td>\n",
       "      <td>hbo</td>\n",
       "      <td>x3_back</td>\n",
       "      <td>-29.004544</td>\n",
       "    </tr>\n",
       "    <tr>\n",
       "      <th>1276</th>\n",
       "      <td>24</td>\n",
       "      <td>8</td>\n",
       "      <td>6</td>\n",
       "      <td>hbo</td>\n",
       "      <td>x3_back</td>\n",
       "      <td>-4.764100</td>\n",
       "    </tr>\n",
       "    <tr>\n",
       "      <th>1278</th>\n",
       "      <td>24</td>\n",
       "      <td>8</td>\n",
       "      <td>7</td>\n",
       "      <td>hbo</td>\n",
       "      <td>x3_back</td>\n",
       "      <td>-1.323223</td>\n",
       "    </tr>\n",
       "  </tbody>\n",
       "</table>\n",
       "<p>640 rows × 6 columns</p>\n",
       "</div>"
      ],
      "text/plain": [
       "      subjectID  source  detector type     cond       beta\n",
       "0             6       1         1  hbo  x3_back  -0.998042\n",
       "2             6       1         2  hbo  x3_back   0.537070\n",
       "4             6       2         1  hbo  x3_back  -0.514659\n",
       "6             6       2         3  hbo  x3_back  -1.564369\n",
       "8             6       3         1  hbo  x3_back  -3.333951\n",
       "...         ...     ...       ...  ...      ...        ...\n",
       "1270         24       6         7  hbo  x3_back   1.682659\n",
       "1272         24       7         5  hbo  x3_back -39.975147\n",
       "1274         24       7         7  hbo  x3_back -29.004544\n",
       "1276         24       8         6  hbo  x3_back  -4.764100\n",
       "1278         24       8         7  hbo  x3_back  -1.323223\n",
       "\n",
       "[640 rows x 6 columns]"
      ]
     },
     "execution_count": 299,
     "metadata": {},
     "output_type": "execute_result"
    }
   ],
   "source": [
    "#df = df.drop(['order'], axis=1)\n",
    "df_hbo = df[(df['type']=='hbo')]\n",
    "df_hbo "
   ]
  },
  {
   "cell_type": "code",
   "execution_count": 300,
   "metadata": {
    "ExecuteTime": {
     "end_time": "2022-09-09T04:34:16.858596Z",
     "start_time": "2022-09-09T04:34:16.809591Z"
    },
    "scrolled": true
   },
   "outputs": [],
   "source": [
    "df_hbo_3back = df_hbo[(df_hbo['cond']=='x3_back')]\n",
    "df_hbo_1back = df_hbo[(df_hbo['cond']=='x1_back')]"
   ]
  },
  {
   "cell_type": "code",
   "execution_count": 295,
   "metadata": {
    "scrolled": true
   },
   "outputs": [
    {
     "data": {
      "text/plain": [
       "Ttest_relResult(statistic=-0.8282772868615791, pvalue=0.4204975144077642)"
      ]
     },
     "execution_count": 295,
     "metadata": {},
     "output_type": "execute_result"
    }
   ],
   "source": [
    "stats.ttest_rel(df_hbo_3back.groupby('subjectID')['beta'].mean(),df_hbo_1back.groupby('subjectID')['beta'].mean())"
   ]
  },
  {
   "cell_type": "code",
   "execution_count": 301,
   "metadata": {},
   "outputs": [
    {
     "name": "stdout",
     "output_type": "stream",
     "text": [
      "source: 1, detector: 1\n",
      "Ttest_relResult(statistic=1.9071626556267849, pvalue=0.07583561999885119)\n",
      "source: 1, detector: 2\n",
      "Ttest_relResult(statistic=0.16566826515445868, pvalue=0.8706302558156078)\n",
      "source: 1, detector: 3\n",
      "Ttest_relResult(statistic=nan, pvalue=nan)\n",
      "source: 1, detector: 4\n",
      "Ttest_relResult(statistic=nan, pvalue=nan)\n",
      "source: 1, detector: 5\n",
      "Ttest_relResult(statistic=nan, pvalue=nan)\n",
      "source: 1, detector: 6\n",
      "Ttest_relResult(statistic=nan, pvalue=nan)\n",
      "source: 1, detector: 7\n",
      "Ttest_relResult(statistic=nan, pvalue=nan)\n",
      "source: 2, detector: 1\n",
      "Ttest_relResult(statistic=0.48882690741700613, pvalue=0.6320341099259332)\n",
      "source: 2, detector: 2\n",
      "Ttest_relResult(statistic=nan, pvalue=nan)\n",
      "source: 2, detector: 3\n",
      "Ttest_relResult(statistic=-2.3504735431352226, pvalue=0.03284792329816268)\n",
      "source: 2, detector: 4\n",
      "Ttest_relResult(statistic=nan, pvalue=nan)\n",
      "source: 2, detector: 5\n",
      "Ttest_relResult(statistic=nan, pvalue=nan)\n",
      "source: 2, detector: 6\n",
      "Ttest_relResult(statistic=nan, pvalue=nan)\n",
      "source: 2, detector: 7\n",
      "Ttest_relResult(statistic=nan, pvalue=nan)\n",
      "source: 3, detector: 1\n",
      "Ttest_relResult(statistic=-0.7532413207019704, pvalue=0.46296441256162224)\n",
      "source: 3, detector: 2\n",
      "Ttest_relResult(statistic=nan, pvalue=nan)\n",
      "source: 3, detector: 3\n",
      "Ttest_relResult(statistic=-1.1177088086439113, pvalue=0.28127392320324957)\n",
      "source: 3, detector: 4\n",
      "Ttest_relResult(statistic=-0.34577346112772755, pvalue=0.7343147092624509)\n",
      "source: 3, detector: 5\n",
      "Ttest_relResult(statistic=nan, pvalue=nan)\n",
      "source: 3, detector: 6\n",
      "Ttest_relResult(statistic=nan, pvalue=nan)\n",
      "source: 3, detector: 7\n",
      "Ttest_relResult(statistic=nan, pvalue=nan)\n",
      "source: 4, detector: 1\n",
      "Ttest_relResult(statistic=nan, pvalue=nan)\n",
      "source: 4, detector: 2\n",
      "Ttest_relResult(statistic=0.6046764246153965, pvalue=0.5544314391951835)\n",
      "source: 4, detector: 3\n",
      "Ttest_relResult(statistic=nan, pvalue=nan)\n",
      "source: 4, detector: 4\n",
      "Ttest_relResult(statistic=0.7734031750480332, pvalue=0.4513008216096601)\n",
      "source: 4, detector: 5\n",
      "Ttest_relResult(statistic=1.1723120046801143, pvalue=0.2593547673920761)\n",
      "source: 4, detector: 6\n",
      "Ttest_relResult(statistic=nan, pvalue=nan)\n",
      "source: 4, detector: 7\n",
      "Ttest_relResult(statistic=nan, pvalue=nan)\n",
      "source: 5, detector: 1\n",
      "Ttest_relResult(statistic=nan, pvalue=nan)\n",
      "source: 5, detector: 2\n",
      "Ttest_relResult(statistic=nan, pvalue=nan)\n",
      "source: 5, detector: 3\n",
      "Ttest_relResult(statistic=-1.6790473642652168, pvalue=0.1138466755393962)\n",
      "source: 5, detector: 4\n",
      "Ttest_relResult(statistic=-0.849978297692098, pvalue=0.40869965396439456)\n",
      "source: 5, detector: 5\n",
      "Ttest_relResult(statistic=nan, pvalue=nan)\n",
      "source: 5, detector: 6\n",
      "Ttest_relResult(statistic=-1.2247237352551632, pvalue=0.23956547324384384)\n",
      "source: 5, detector: 7\n",
      "Ttest_relResult(statistic=nan, pvalue=nan)\n",
      "source: 6, detector: 1\n",
      "Ttest_relResult(statistic=nan, pvalue=nan)\n",
      "source: 6, detector: 2\n",
      "Ttest_relResult(statistic=nan, pvalue=nan)\n",
      "source: 6, detector: 3\n",
      "Ttest_relResult(statistic=nan, pvalue=nan)\n",
      "source: 6, detector: 4\n",
      "Ttest_relResult(statistic=0.09972239592348237, pvalue=0.9218853026253668)\n",
      "source: 6, detector: 5\n",
      "Ttest_relResult(statistic=nan, pvalue=nan)\n",
      "source: 6, detector: 6\n",
      "Ttest_relResult(statistic=0.358841852170625, pvalue=0.7247141731143472)\n",
      "source: 6, detector: 7\n",
      "Ttest_relResult(statistic=0.5534481682539079, pvalue=0.5881117092422381)\n",
      "source: 7, detector: 1\n",
      "Ttest_relResult(statistic=nan, pvalue=nan)\n",
      "source: 7, detector: 2\n",
      "Ttest_relResult(statistic=nan, pvalue=nan)\n",
      "source: 7, detector: 3\n",
      "Ttest_relResult(statistic=nan, pvalue=nan)\n",
      "source: 7, detector: 4\n",
      "Ttest_relResult(statistic=nan, pvalue=nan)\n",
      "source: 7, detector: 5\n",
      "Ttest_relResult(statistic=1.0176122760243729, pvalue=0.32499576239140315)\n",
      "source: 7, detector: 6\n",
      "Ttest_relResult(statistic=nan, pvalue=nan)\n",
      "source: 7, detector: 7\n",
      "Ttest_relResult(statistic=1.1651285461791845, pvalue=0.2621618204569531)\n",
      "source: 8, detector: 1\n",
      "Ttest_relResult(statistic=nan, pvalue=nan)\n",
      "source: 8, detector: 2\n",
      "Ttest_relResult(statistic=nan, pvalue=nan)\n",
      "source: 8, detector: 3\n",
      "Ttest_relResult(statistic=nan, pvalue=nan)\n",
      "source: 8, detector: 4\n",
      "Ttest_relResult(statistic=nan, pvalue=nan)\n",
      "source: 8, detector: 5\n",
      "Ttest_relResult(statistic=nan, pvalue=nan)\n",
      "source: 8, detector: 6\n",
      "Ttest_relResult(statistic=0.83707533859811, pvalue=0.4156880336147376)\n",
      "source: 8, detector: 7\n",
      "Ttest_relResult(statistic=0.24784072473572819, pvalue=0.8076183075938341)\n"
     ]
    }
   ],
   "source": [
    "for source in range(1,9):\n",
    "    for detector in range(1, 8):\n",
    "        df_1b_tmp = df_hbo_1back[(df_hbo_1back['source']==source)&(df_hbo_1back['detector']==detector)]\n",
    "        df_3b_tmp = df_hbo_3back[(df_hbo_3back['source']==source)&(df_hbo_3back['detector']==detector)]\n",
    "        beta_1b = df_1b_tmp.sort_values(by='subjectID')['beta']\n",
    "        beta_3b = df_3b_tmp.sort_values(by='subjectID')['beta']\n",
    "        print(f'source: {source}, detector: {detector}')\n",
    "        print(stats.ttest_rel(beta_1b,beta_3b))"
   ]
  },
  {
   "cell_type": "code",
   "execution_count": null,
   "metadata": {},
   "outputs": [],
   "source": [
    "df_hbo_1back[(df_hbo_1back['source']==1)|(df_hbo_1back['detector']==3)]"
   ]
  },
  {
   "cell_type": "code",
   "execution_count": null,
   "metadata": {},
   "outputs": [],
   "source": [
    "df_1b_tmp"
   ]
  },
  {
   "cell_type": "code",
   "execution_count": null,
   "metadata": {},
   "outputs": [],
   "source": [
    "df_3b_tmp"
   ]
  },
  {
   "cell_type": "code",
   "execution_count": null,
   "metadata": {
    "ExecuteTime": {
     "end_time": "2022-09-09T04:34:20.252874Z",
     "start_time": "2022-09-09T04:34:20.248018Z"
    }
   },
   "outputs": [],
   "source": [
    "len(df_hbo_3back)"
   ]
  },
  {
   "cell_type": "code",
   "execution_count": null,
   "metadata": {
    "ExecuteTime": {
     "end_time": "2022-09-09T04:34:21.011444Z",
     "start_time": "2022-09-09T04:34:21.006174Z"
    }
   },
   "outputs": [],
   "source": [
    "len(df_hbo_1back)"
   ]
  },
  {
   "cell_type": "code",
   "execution_count": null,
   "metadata": {
    "ExecuteTime": {
     "end_time": "2022-09-09T04:34:25.262893Z",
     "start_time": "2022-09-09T04:34:25.252006Z"
    }
   },
   "outputs": [],
   "source": [
    "df_mean"
   ]
  },
  {
   "cell_type": "code",
   "execution_count": null,
   "metadata": {
    "ExecuteTime": {
     "end_time": "2022-09-09T04:34:26.335919Z",
     "start_time": "2022-09-09T04:34:26.324781Z"
    }
   },
   "outputs": [],
   "source": [
    "df_std = df_3_back.std().to_frame() + df_1_back.std().to_frame()\n",
    "df_std['3-back'] = df_3_back.std().to_frame()\n",
    "df_std['1-back'] = df_1_back.std().to_frame()"
   ]
  },
  {
   "cell_type": "code",
   "execution_count": null,
   "metadata": {
    "ExecuteTime": {
     "end_time": "2022-09-09T04:34:27.340973Z",
     "start_time": "2022-09-09T04:34:27.330104Z"
    }
   },
   "outputs": [],
   "source": [
    "df_std"
   ]
  },
  {
   "cell_type": "code",
   "execution_count": null,
   "metadata": {
    "ExecuteTime": {
     "end_time": "2022-09-09T04:35:46.591838Z",
     "start_time": "2022-09-09T04:35:46.588733Z"
    }
   },
   "outputs": [],
   "source": [
    "import statsmodels.api as sm\n",
    "from statsmodels.formula.api import ols\n",
    "from scipy import stats"
   ]
  },
  {
   "cell_type": "code",
   "execution_count": null,
   "metadata": {
    "ExecuteTime": {
     "end_time": "2022-09-09T04:35:48.574979Z",
     "start_time": "2022-09-09T04:35:48.572059Z"
    }
   },
   "outputs": [],
   "source": [
    "#bonferroni correction for Correctly_matched_items_No, Missed_items_No, False_alarm_No, Correctly_matches_per, Missed_items_per, False_alarm_per, \n",
    "# P_threshold = 0.05/C(6,2) = 0.00333333333\n",
    "# P_threshold = 0.01/C(6,2) = 0.00066666666\n",
    "# P_threshold = 0.001/C(6,2) = 0.000066666666\n",
    "#Selfreported_demanding\n",
    "#Selfreported_concentrated\n",
    "#Selfreported_comfortable\n"
   ]
  },
  {
   "cell_type": "code",
   "execution_count": null,
   "metadata": {
    "ExecuteTime": {
     "end_time": "2022-09-09T04:39:22.930901Z",
     "start_time": "2022-09-09T04:39:22.887611Z"
    }
   },
   "outputs": [],
   "source": [
    "post_hocs = pg.pairwise_ttests(dv='Correctly_matched_items_No', within=['nBack'], subject='Subj_ID', padjust='fdr_bh', data=df)\n",
    "post_hocs"
   ]
  },
  {
   "cell_type": "code",
   "execution_count": null,
   "metadata": {},
   "outputs": [],
   "source": [
    "stats.ttest_rel(df_1_back['Correctly_matched_items_No'].tolist(), df_3_back['Correctly_matched_items_No'].tolist())"
   ]
  },
  {
   "cell_type": "code",
   "execution_count": null,
   "metadata": {
    "ExecuteTime": {
     "end_time": "2022-09-09T04:40:47.601617Z",
     "start_time": "2022-09-09T04:40:47.559338Z"
    }
   },
   "outputs": [],
   "source": [
    "post_hocs = pg.pairwise_ttests(dv='Missed_items_No', within=['nBack'], subject='Subj_ID', padjust='fdr_bh', data=df)\n",
    "post_hocs"
   ]
  },
  {
   "cell_type": "code",
   "execution_count": null,
   "metadata": {
    "ExecuteTime": {
     "end_time": "2022-09-09T04:41:03.764163Z",
     "start_time": "2022-09-09T04:41:03.758161Z"
    }
   },
   "outputs": [],
   "source": [
    "# not significant\n",
    "stats.ttest_rel(df_1_back['Missed_items_No'].tolist(), df_3_back['Missed_items_No'].tolist())"
   ]
  },
  {
   "cell_type": "code",
   "execution_count": null,
   "metadata": {
    "ExecuteTime": {
     "end_time": "2022-09-09T04:41:23.817659Z",
     "start_time": "2022-09-09T04:41:23.775411Z"
    }
   },
   "outputs": [],
   "source": [
    "post_hocs = pg.pairwise_ttests(dv='False_alarm_No', within=['nBack'], subject='Subj_ID', padjust='fdr_bh', data=df)\n",
    "post_hocs"
   ]
  },
  {
   "cell_type": "code",
   "execution_count": null,
   "metadata": {
    "ExecuteTime": {
     "end_time": "2022-09-09T04:41:24.826998Z",
     "start_time": "2022-09-09T04:41:24.821033Z"
    }
   },
   "outputs": [],
   "source": [
    "stats.ttest_rel(df_1_back['False_alarm_No'].tolist(), df_3_back['False_alarm_No'].tolist())"
   ]
  },
  {
   "cell_type": "code",
   "execution_count": null,
   "metadata": {
    "ExecuteTime": {
     "end_time": "2022-09-09T04:41:48.347888Z",
     "start_time": "2022-09-09T04:41:48.304675Z"
    }
   },
   "outputs": [],
   "source": [
    "post_hocs = pg.pairwise_ttests(dv='Correctly_matches_per', within=['nBack'], subject='Subj_ID', padjust='fdr_bh', data=df)\n",
    "post_hocs"
   ]
  },
  {
   "cell_type": "code",
   "execution_count": null,
   "metadata": {
    "ExecuteTime": {
     "end_time": "2022-09-09T04:41:49.384234Z",
     "start_time": "2022-09-09T04:41:49.378099Z"
    }
   },
   "outputs": [],
   "source": [
    "stats.ttest_rel(df_1_back['Correctly_matches_per'].tolist(), df_3_back['Correctly_matches_per'].tolist())"
   ]
  },
  {
   "cell_type": "code",
   "execution_count": null,
   "metadata": {
    "ExecuteTime": {
     "end_time": "2022-09-09T04:42:06.537871Z",
     "start_time": "2022-09-09T04:42:06.495005Z"
    }
   },
   "outputs": [],
   "source": [
    "post_hocs = pg.pairwise_ttests(dv='Missed_items_per', within=['nBack'], subject='Subj_ID', padjust='fdr_bh', data=df)\n",
    "post_hocs"
   ]
  },
  {
   "cell_type": "code",
   "execution_count": null,
   "metadata": {
    "ExecuteTime": {
     "end_time": "2022-09-09T04:42:07.492225Z",
     "start_time": "2022-09-09T04:42:07.485600Z"
    }
   },
   "outputs": [],
   "source": [
    "stats.ttest_rel(df_1_back['Missed_items_per'].tolist(), df_3_back['Missed_items_per'].tolist())"
   ]
  },
  {
   "cell_type": "code",
   "execution_count": null,
   "metadata": {
    "ExecuteTime": {
     "end_time": "2022-09-09T04:42:55.572445Z",
     "start_time": "2022-09-09T04:42:55.533095Z"
    }
   },
   "outputs": [],
   "source": [
    "post_hocs = pg.pairwise_ttests(dv='False_alarm_per', within=['nBack'], subject='Subj_ID', padjust='fdr_bh', data=df)\n",
    "post_hocs"
   ]
  },
  {
   "cell_type": "code",
   "execution_count": null,
   "metadata": {
    "ExecuteTime": {
     "end_time": "2022-09-09T04:42:56.487822Z",
     "start_time": "2022-09-09T04:42:56.481340Z"
    }
   },
   "outputs": [],
   "source": [
    "stats.ttest_rel(df_1_back['False_alarm_per'].tolist(), df_3_back['False_alarm_per'].tolist())"
   ]
  },
  {
   "cell_type": "code",
   "execution_count": null,
   "metadata": {
    "ExecuteTime": {
     "end_time": "2022-09-09T04:43:08.689662Z",
     "start_time": "2022-09-09T04:43:08.647372Z"
    }
   },
   "outputs": [],
   "source": [
    "post_hocs = pg.pairwise_ttests(dv='Selfreported_demanding', within=['nBack'], subject='Subj_ID', padjust='fdr_bh', data=df)\n",
    "post_hocs"
   ]
  },
  {
   "cell_type": "code",
   "execution_count": null,
   "metadata": {
    "ExecuteTime": {
     "end_time": "2022-09-09T04:43:09.517733Z",
     "start_time": "2022-09-09T04:43:09.511133Z"
    }
   },
   "outputs": [],
   "source": [
    "stats.ttest_rel(df_1_back['Selfreported_demanding'].tolist(), df_3_back['Selfreported_demanding'].tolist())"
   ]
  },
  {
   "cell_type": "code",
   "execution_count": null,
   "metadata": {
    "ExecuteTime": {
     "end_time": "2022-09-09T04:43:18.415724Z",
     "start_time": "2022-09-09T04:43:18.372370Z"
    }
   },
   "outputs": [],
   "source": [
    "post_hocs = pg.pairwise_ttests(dv='Selfreported_concentrated', within=['nBack'], subject='Subj_ID', padjust='fdr_bh', data=df)\n",
    "post_hocs"
   ]
  },
  {
   "cell_type": "code",
   "execution_count": null,
   "metadata": {
    "ExecuteTime": {
     "end_time": "2022-09-09T04:43:18.987500Z",
     "start_time": "2022-09-09T04:43:18.980835Z"
    }
   },
   "outputs": [],
   "source": [
    "# not significant\n",
    "stats.ttest_rel(df_1_back['Selfreported_concentrated'].tolist(), df_3_back['Selfreported_concentrated'].tolist())"
   ]
  },
  {
   "cell_type": "code",
   "execution_count": null,
   "metadata": {
    "ExecuteTime": {
     "end_time": "2022-09-09T04:43:25.862237Z",
     "start_time": "2022-09-09T04:43:25.823066Z"
    }
   },
   "outputs": [],
   "source": [
    "post_hocs = pg.pairwise_ttests(dv='Selfreported_comfortable', within=['nBack'], subject='Subj_ID', padjust='fdr_bh', data=df)\n",
    "post_hocs"
   ]
  },
  {
   "cell_type": "code",
   "execution_count": null,
   "metadata": {
    "ExecuteTime": {
     "end_time": "2022-09-09T04:43:26.310562Z",
     "start_time": "2022-09-09T04:43:26.304904Z"
    }
   },
   "outputs": [],
   "source": [
    "# not significant\n",
    "stats.ttest_rel(df_1_back['Selfreported_comfortable'].tolist(), df_3_back['Selfreported_comfortable'].tolist())"
   ]
  },
  {
   "cell_type": "code",
   "execution_count": null,
   "metadata": {},
   "outputs": [],
   "source": []
  }
 ],
 "metadata": {
  "kernelspec": {
   "display_name": "Python 3",
   "language": "python",
   "name": "python3"
  },
  "language_info": {
   "codemirror_mode": {
    "name": "ipython",
    "version": 3
   },
   "file_extension": ".py",
   "mimetype": "text/x-python",
   "name": "python",
   "nbconvert_exporter": "python",
   "pygments_lexer": "ipython3",
   "version": "3.8.5"
  }
 },
 "nbformat": 4,
 "nbformat_minor": 4
}
